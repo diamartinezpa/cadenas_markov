{
  "nbformat": 4,
  "nbformat_minor": 0,
  "metadata": {
    "colab": {
      "provenance": [],
      "include_colab_link": true
    },
    "kernelspec": {
      "name": "python3",
      "display_name": "Python 3"
    },
    "language_info": {
      "name": "python"
    }
  },
  "cells": [
    {
      "cell_type": "markdown",
      "metadata": {
        "id": "view-in-github",
        "colab_type": "text"
      },
      "source": [
        "<a href=\"https://colab.research.google.com/github/diamartinezpa/cadenas_markov/blob/main/Tarea_1_02_de_Abril_Cadenas_de_Markov.ipynb\" target=\"_parent\"><img src=\"https://colab.research.google.com/assets/colab-badge.svg\" alt=\"Open In Colab\"/></a>"
      ]
    },
    {
      "cell_type": "markdown",
      "source": [
        "# Entrega Trabajo 1 - Cadenas de Markov & Aplicaciones"
      ],
      "metadata": {
        "id": "zVjOqEYzj6Hz"
      }
    },
    {
      "cell_type": "markdown",
      "source": [
        "Grupo 8:\n",
        "- Diego Fernando Pinzón López - dfpinzonl@unal.edu.co\n",
        "- Diego Andrés Martínez Parada - diamartinezpa@unal.edu.co"
      ],
      "metadata": {
        "id": "ZrjTmbVYjtg2"
      }
    },
    {
      "cell_type": "markdown",
      "source": [
        "# Descripción Tarea 1"
      ],
      "metadata": {
        "id": "-0_KjdpYku3q"
      }
    },
    {
      "cell_type": "markdown",
      "source": [
        "Escriba un notebook realizando los siguientes experimentos:"
      ],
      "metadata": {
        "id": "PcQHTQ96k8LU"
      }
    },
    {
      "cell_type": "markdown",
      "source": [
        "### **1)** Implementar el algoritmo (Gibbs Sampler) visto en clase para generar muestras de una distribución uniforme sobre las configuraciones factibles del modelo Hard-Core, en la rejilla cuadrada $k \\times k$, ($\\approx 3 \\leq k \\leq 20$). Lo ideal es que se puedan visualizar las muestras y algunos pasos de la trayectoria de la cadena de Markov que condujo a la muestra (Sugerencia: tome $X_{10.000}$ ó $X_{100.000}$ como tiempo final)."
      ],
      "metadata": {
        "id": "FCYvFX-ikdBu"
      }
    },
    {
      "cell_type": "code",
      "source": [
        "import pandas as pd\n",
        "import numpy as np\n",
        "import random\n",
        "import matplotlib.pyplot as plt\n",
        "import seaborn as sns"
      ],
      "metadata": {
        "id": "svrbJzOe8HiD"
      },
      "execution_count": 1,
      "outputs": []
    },
    {
      "cell_type": "markdown",
      "source": [
        "##### Función que permite ver si una configuración (array k x k de unos y ceros) es una configuración factible, es decir, si satisface las condiciones del modelo Hard-Core\n"
      ],
      "metadata": {
        "id": "Tkk6CZ_558Mw"
      }
    },
    {
      "cell_type": "code",
      "source": [
        "def configuracion_factible(configuracion):\n",
        "    for i in range(len(configuracion)):\n",
        "        for j in range(len(configuracion)):\n",
        "            # Verificar que no haya ningún color repetido adyacente en la celda donde sí hay un 1\n",
        "            if configuracion[i][j] == 1:\n",
        "              if (i > 0 and configuracion[i-1][j] == 1) or \\\n",
        "                 (i < len(configuracion)-1 and configuracion[i+1][j] == 1) or \\\n",
        "                 (j > 0 and configuracion[i][j-1] == 1) or \\\n",
        "                 (j < len(configuracion)-1 and configuracion[i][j+1] == 1):\n",
        "                 return False\n",
        "    return True"
      ],
      "metadata": {
        "id": "j3Btllb37EwL"
      },
      "execution_count": 2,
      "outputs": []
    },
    {
      "cell_type": "markdown",
      "source": [
        "##### Comprobación con ejemplos de la ejecución de la función"
      ],
      "metadata": {
        "id": "k_x_Y9Ee6HwT"
      }
    },
    {
      "cell_type": "code",
      "source": [
        "conf_ejemplo_1 = np.array([[1,0,0]\n",
        "                          ,[0,1,0]\n",
        "                          ,[0,0,1]])\n",
        "print(conf_ejemplo_1)\n",
        "configuracion_factible(conf_ejemplo_1)"
      ],
      "metadata": {
        "colab": {
          "base_uri": "https://localhost:8080/"
        },
        "id": "mRGF-fLc7yK7",
        "outputId": "6086935d-a734-45c8-8826-e57bd1d85594"
      },
      "execution_count": 3,
      "outputs": [
        {
          "output_type": "stream",
          "name": "stdout",
          "text": [
            "[[1 0 0]\n",
            " [0 1 0]\n",
            " [0 0 1]]\n"
          ]
        },
        {
          "output_type": "execute_result",
          "data": {
            "text/plain": [
              "True"
            ]
          },
          "metadata": {},
          "execution_count": 3
        }
      ]
    },
    {
      "cell_type": "code",
      "source": [
        "conf_ejemplo_2 = np.array([[1,0,0]\n",
        "                          ,[1,0,0]\n",
        "                          ,[0,0,0]])\n",
        "print(conf_ejemplo_2)\n",
        "configuracion_factible(conf_ejemplo_2)"
      ],
      "metadata": {
        "colab": {
          "base_uri": "https://localhost:8080/"
        },
        "id": "SVVjnlPU8c-c",
        "outputId": "7542b667-28fc-40da-97e0-840bf43b4ec4"
      },
      "execution_count": 4,
      "outputs": [
        {
          "output_type": "stream",
          "name": "stdout",
          "text": [
            "[[1 0 0]\n",
            " [1 0 0]\n",
            " [0 0 0]]\n"
          ]
        },
        {
          "output_type": "execute_result",
          "data": {
            "text/plain": [
              "False"
            ]
          },
          "metadata": {},
          "execution_count": 4
        }
      ]
    },
    {
      "cell_type": "markdown",
      "source": [
        "#### Funciones que permiten generar una configuración (array k x k de unos y ceros) factible, es decir, que satisface las condiciones del modelo Hard-Core"
      ],
      "metadata": {
        "id": "gn92Nxdv5vTg"
      }
    },
    {
      "cell_type": "code",
      "source": [
        "#Recibe una configuración inicial y la posición i,j del array, retorna una\n",
        "#configuración después de generar la verificación de los vecinos\n",
        "def cambio_colores(configuracion,i,j):\n",
        "    # Verificar que no haya ningún 1 adyacente en la celda donde sí hay un 1\n",
        "    if (i > 0 and configuracion[i-1][j] == 1) or\\\n",
        "       (i < len(configuracion)-1 and configuracion[i+1][j] == 1) or\\\n",
        "       (j > 0 and configuracion[i][j-1] == 1) or\\\n",
        "       (j < len(configuracion)-1 and configuracion[i][j+1] == 1):\n",
        "         configuracion[i][j] = 0\n",
        "\n",
        "    else:\n",
        "      a = random.choice([0, 1])\n",
        "      configuracion[i][j] = a\n",
        "\n",
        "    return configuracion"
      ],
      "metadata": {
        "id": "dhPxiBgGCzEu"
      },
      "execution_count": 6,
      "outputs": []
    },
    {
      "cell_type": "code",
      "source": [
        "#Argumento de la función: tamaño de la matriz, retorna una configuración válida\n",
        "def generador_configuracion_factible(k):\n",
        "    configuracion = np.full((k, k), 0, dtype=int)\n",
        "\n",
        "    for i in range(k):\n",
        "        for j in range(k):\n",
        "            configuracion = cambio_colores(configuracion, i, j)\n",
        "    # Verificar si la configuración generada es factible\n",
        "    while not configuracion_factible(configuracion):\n",
        "        configuracion = generador_configuracion_factible(k)     # Vuelve a llamar la función hasta que se tenga una configuración factible\n",
        "    return configuracion"
      ],
      "metadata": {
        "id": "72toFNf_FCsv"
      },
      "execution_count": 7,
      "outputs": []
    },
    {
      "cell_type": "markdown",
      "source": [
        "### Ejecución de la función para generar una configuración factible con $k=10$"
      ],
      "metadata": {
        "id": "1Z0ctp9-7Kvr"
      }
    },
    {
      "cell_type": "code",
      "source": [
        "generador_configuracion_factible(10)"
      ],
      "metadata": {
        "id": "hM3RsSsmFs7d",
        "colab": {
          "base_uri": "https://localhost:8080/"
        },
        "outputId": "72cfa5f8-5fee-4bfd-adb2-fb53f421e6eb"
      },
      "execution_count": 8,
      "outputs": [
        {
          "output_type": "execute_result",
          "data": {
            "text/plain": [
              "array([[0, 0, 1, 0, 1, 0, 1, 0, 0, 1],\n",
              "       [0, 0, 0, 0, 0, 0, 0, 0, 0, 0],\n",
              "       [0, 0, 1, 0, 0, 1, 0, 0, 0, 1],\n",
              "       [1, 0, 0, 0, 1, 0, 0, 0, 0, 0],\n",
              "       [0, 1, 0, 1, 0, 1, 0, 1, 0, 0],\n",
              "       [0, 0, 1, 0, 1, 0, 1, 0, 0, 0],\n",
              "       [1, 0, 0, 0, 0, 1, 0, 1, 0, 1],\n",
              "       [0, 1, 0, 1, 0, 0, 1, 0, 1, 0],\n",
              "       [1, 0, 0, 0, 1, 0, 0, 0, 0, 1],\n",
              "       [0, 0, 1, 0, 0, 0, 0, 1, 0, 0]])"
            ]
          },
          "metadata": {},
          "execution_count": 8
        }
      ]
    },
    {
      "cell_type": "markdown",
      "source": [
        "#### Otro ejemplo de configuración factible con $k=30$: y con visualización para fácil comprobación"
      ],
      "metadata": {
        "id": "e4p1fKUZ8J-j"
      }
    },
    {
      "cell_type": "code",
      "source": [
        "configuracion_mapa = generador_configuracion_factible(k = 30)\n",
        "\n",
        "plt.figure(figsize=(8, 6))\n",
        "sns.heatmap(configuracion_mapa\n",
        "           ,annot = True\n",
        "           ,fmt = \"d\"\n",
        "           ,cmap = \"YlGnBu\"\n",
        "           ,cbar=False)\n",
        "plt.title(\"Matriz aleatoria\")\n",
        "plt.xlabel(\"Columna\")\n",
        "plt.ylabel(\"Fila\")\n",
        "plt.show()"
      ],
      "metadata": {
        "colab": {
          "base_uri": "https://localhost:8080/",
          "height": 564
        },
        "id": "v3VANnVsGFJb",
        "outputId": "0507c3a5-ff0f-49f7-a886-fb15f9cea6be"
      },
      "execution_count": null,
      "outputs": [
        {
          "output_type": "display_data",
          "data": {
            "text/plain": [
              "<Figure size 800x600 with 1 Axes>"
            ],
            "image/png": "[encoded data removed]"
          },
          "metadata": {}
        }
      ]
    },
    {
      "cell_type": "markdown",
      "source": [
        "### Función que implementa del **algoritmo Gibbs Sampler** para generar muestras de una distribución uniforme\n"
      ],
      "metadata": {
        "id": "Pqh8dzf38cBW"
      }
    },
    {
      "cell_type": "code",
      "source": [
        "## Ingresa un valor de n que serían la cantidad de iteraciones y k como tamaño de la matriz que deseamos\n",
        "def algoritmo_gibbs(n,k):\n",
        "    # Lista de muestras de configuraciones factibles dentro del algoritmo gibbs\n",
        "    muestras = []\n",
        "    # Lista del número de partículas dentro de cada configuración factible\n",
        "    num_particulas = []\n",
        "    # Generar una configuración inicial aleatoria válida\n",
        "    configuracion_actual = generador_configuracion_factible(k)\n",
        "\n",
        "    for w in range(n):\n",
        "        configuracion_propuesta = configuracion_actual.copy()\n",
        "        i, j = random.randint(0, k-1), random.randint(0, k-1)               # Elegir una posición aleatoria en la configuración actual\n",
        "        configuracion_propuesta[i][j] = 1 - configuracion_propuesta[i][j]\n",
        "\n",
        "        particulas_conf_actual = np.count_nonzero(configuracion_actual == 1)\n",
        "        particulas_conf_propuesta = np.count_nonzero(configuracion_propuesta == 1)\n",
        "\n",
        "        if configuracion_factible(configuracion_propuesta):\n",
        "          muestras.append(configuracion_propuesta)            # Agregar la configuración actual a las muestras\n",
        "          num_particulas.append(particulas_conf_propuesta)\n",
        "          configuracion_actual = configuracion_propuesta.copy()\n",
        "        else:\n",
        "          muestras.append(configuracion_actual)\n",
        "          num_particulas.append(particulas_conf_propuesta)\n",
        "\n",
        "    sum_num_particulas = sum(num_particulas)\n",
        "    len_num_particulas = len(num_particulas)\n",
        "    total_avg = round(sum_num_particulas/len_num_particulas,2)\n",
        "    return muestras, total_avg"
      ],
      "metadata": {
        "id": "eNfQrLAB_Bsd"
      },
      "execution_count": 9,
      "outputs": []
    },
    {
      "cell_type": "markdown",
      "source": [
        "#### El algoritmo construido nos retorna $n=10$ muestras para $k=3$ y además el promedio particulas en todas las muestras."
      ],
      "metadata": {
        "id": "6Njfbi8f8q0o"
      }
    },
    {
      "cell_type": "code",
      "source": [
        "algoritmo_gibbs(n = 10, k = 3)[0]"
      ],
      "metadata": {
        "colab": {
          "base_uri": "https://localhost:8080/"
        },
        "id": "Pm_bZB8KM0au",
        "outputId": "d98f7f5b-40aa-4643-9084-c44932acee29"
      },
      "execution_count": 10,
      "outputs": [
        {
          "output_type": "execute_result",
          "data": {
            "text/plain": [
              "[array([[0, 0, 1],\n",
              "        [0, 0, 0],\n",
              "        [0, 0, 0]]),\n",
              " array([[0, 0, 1],\n",
              "        [0, 0, 0],\n",
              "        [0, 0, 1]]),\n",
              " array([[0, 0, 1],\n",
              "        [0, 0, 0],\n",
              "        [0, 0, 1]]),\n",
              " array([[0, 0, 1],\n",
              "        [0, 0, 0],\n",
              "        [0, 0, 0]]),\n",
              " array([[0, 0, 1],\n",
              "        [0, 0, 0],\n",
              "        [0, 1, 0]]),\n",
              " array([[0, 0, 0],\n",
              "        [0, 0, 0],\n",
              "        [0, 1, 0]]),\n",
              " array([[0, 0, 0],\n",
              "        [0, 0, 0],\n",
              "        [0, 0, 0]]),\n",
              " array([[0, 1, 0],\n",
              "        [0, 0, 0],\n",
              "        [0, 0, 0]]),\n",
              " array([[0, 1, 0],\n",
              "        [0, 0, 0],\n",
              "        [0, 0, 0]]),\n",
              " array([[0, 1, 0],\n",
              "        [0, 0, 0],\n",
              "        [0, 0, 1]])]"
            ]
          },
          "metadata": {},
          "execution_count": 10
        }
      ]
    },
    {
      "cell_type": "code",
      "source": [
        "algoritmo_gibbs(n = 10, k = 3)[1]"
      ],
      "metadata": {
        "colab": {
          "base_uri": "https://localhost:8080/"
        },
        "id": "LPGkXpCI9XKK",
        "outputId": "5d662fda-b40b-4810-ff2d-997222e3127f"
      },
      "execution_count": 11,
      "outputs": [
        {
          "output_type": "execute_result",
          "data": {
            "text/plain": [
              "2.7"
            ]
          },
          "metadata": {},
          "execution_count": 11
        }
      ]
    },
    {
      "cell_type": "markdown",
      "source": [
        "### **2)** Usar muestras generadas con lo hecho en el ejercicio anterior para estimar el número de partículas \"típico\" que tienen una configuración factible en la rejilla $k \\times k$. Veriticar como cambia el histograma si en el paso 1) se toman en vez de $X_{10.000}$ ó $X_{100.000}$, otros tiempos de la cadena ${X_A}$"
      ],
      "metadata": {
        "id": "beweeyb4lkUZ"
      }
    },
    {
      "cell_type": "markdown",
      "source": [
        "#### En el siguiente código se generan las iteraciones desde $10$ hasta $100.000$ con el algoritmo de gibs para $k=3$"
      ],
      "metadata": {
        "id": "p30Bry5t-Ppc"
      }
    },
    {
      "cell_type": "code",
      "source": [
        "# Calcular los promedios totales para diferentes valores de n\n",
        "n_values = list(range(10, 100000, 1000))\n",
        "total_avgs = []\n",
        "\n",
        "for x in n_values:\n",
        "  total_avg_insert = algoritmo_gibbs(n = x, k=3)[1]\n",
        "  total_avgs.append(total_avg_insert)\n",
        "\n",
        "# Graficar el mapa de frecuencias\n",
        "plt.plot(n_values, total_avgs)\n",
        "plt.xlabel('Valor de n')\n",
        "plt.ylabel('Media Total')\n",
        "plt.title('Mapa de Frecuencias: Media Total vs Valor de n')\n",
        "plt.grid(True)\n",
        "plt.show()"
      ],
      "metadata": {
        "colab": {
          "base_uri": "https://localhost:8080/",
          "height": 472
        },
        "id": "79X-NR17LtU_",
        "outputId": "a3348923-eb96-42df-9ac3-f1cc0f4fa212"
      },
      "execution_count": 12,
      "outputs": [
        {
          "output_type": "display_data",
          "data": {
            "text/plain": [
              "<Figure size 640x480 with 1 Axes>"
            ],
            "image/png": "[encoded data removed]"
          },
          "metadata": {}
        }
      ]
    },
    {
      "cell_type": "markdown",
      "source": [
        "#### **3)** Replicar lo hecho en el punto 1) para $q$ coloraciones ($ 2 \\leq q \\leq 10$, $3 \\leq k \\leq 20$)."
      ],
      "metadata": {
        "id": "2PDwm8hSjoOE"
      }
    },
    {
      "cell_type": "markdown",
      "source": [
        "#### Función que nos permite cambiar los colores o no, estando en una posición i,j de una configuración inicial"
      ],
      "metadata": {
        "id": "PprC2Z_m-yJe"
      }
    },
    {
      "cell_type": "code",
      "source": [
        "## Ingresa una configuración inicial, una posición i,j y un listado de colores\n",
        "## retorna una configuración\n",
        "def cambio_colores(configuracion,i,j,lista_colores_q):\n",
        "    #Me trae el color de la casilla i,j\n",
        "    color_q = configuracion[i][j]\n",
        "    lista_colores_excluir = []\n",
        "    # Verificar que no haya ningún 1 adyacente en la celda donde sí hay un 1\n",
        "    if (i > 0 and configuracion[i-1][j] == color_q) or\\\n",
        "       (i < len(configuracion)-1 and configuracion[i+1][j] == color_q) or\\\n",
        "       (j > 0 and configuracion[i][j-1] == color_q) or\\\n",
        "       (j < len(configuracion)-1 and configuracion[i][j+1] == color_q):\n",
        "         if i > 0:\n",
        "                color_q1 = configuracion[i-1][j]\n",
        "                lista_colores_excluir.append(color_q1)\n",
        "\n",
        "         if i < len(configuracion)-1:\n",
        "                color_q2 = configuracion[i+1][j]\n",
        "                lista_colores_excluir.append(color_q2)\n",
        "\n",
        "         if j > 0:\n",
        "            color_q3 = configuracion[i][j-1]\n",
        "            lista_colores_excluir.append(color_q3)\n",
        "\n",
        "         if j < len(configuracion)-1:\n",
        "                color_q4 = configuracion[i][j+1]\n",
        "                lista_colores_excluir.append(color_q4)\n",
        "\n",
        "         lista_sin_color_q = [x for x in lista_colores_q if x not in lista_colores_excluir]\n",
        "         color_q_nuevo = random.choice(lista_sin_color_q)\n",
        "         configuracion[i][j] = color_q_nuevo\n",
        "\n",
        "    if i == len(configuracion)-1 and j == len(configuracion)-1:\n",
        "        lista_colores_excluir = [configuracion[i][j-1], configuracion[i-1][j]]\n",
        "        lista_sin_color_q = [x for x in lista_colores_q if x not in lista_colores_excluir]\n",
        "        color_q_nuevo = random.choice(lista_sin_color_q)\n",
        "        configuracion[i][j] = color_q_nuevo\n",
        "\n",
        "    return configuracion"
      ],
      "metadata": {
        "id": "JRBIAZSsHqFy"
      },
      "execution_count": 19,
      "outputs": []
    },
    {
      "cell_type": "markdown",
      "source": [
        "### Función que verifica si es una configuración factible con las condiciones del problema de $q$-coloraciones"
      ],
      "metadata": {
        "id": "d5S2rL7s_Ueq"
      }
    },
    {
      "cell_type": "code",
      "source": [
        "## ingresa una configuración incial retorna un booleano\n",
        "def configuracion_factible(configuracion):\n",
        "    for i in range(len(configuracion)):\n",
        "        for j in range(len(configuracion)):\n",
        "            l = configuracion[i][j]\n",
        "            # Verificar que no haya ningún color repetido adyacente en la celda donde sí hay un 1\n",
        "            if (i > 0 and configuracion[i-1][j] == l) or \\\n",
        "               (i < len(configuracion)-1 and configuracion[i+1][j] == l) or \\\n",
        "               (j > 0 and configuracion[i][j-1] == l) or \\\n",
        "               (j < len(configuracion)-1 and configuracion[i][j+1] == l):\n",
        "                return False\n",
        "    return True"
      ],
      "metadata": {
        "id": "BLq5S5rGIG1O"
      },
      "execution_count": 20,
      "outputs": []
    },
    {
      "cell_type": "markdown",
      "source": [
        "#### Función que genera una configuración factible para el problema de $q$-coloraciones"
      ],
      "metadata": {
        "id": "OiuVEO8X_7vI"
      }
    },
    {
      "cell_type": "code",
      "source": [
        "def generador_configuracion_factible(k,q):\n",
        "    lista_colores_q = [a for a in range(q)]\n",
        "    configuracion = np.full((k, k), -1, dtype=int)\n",
        "\n",
        "    for i in range(k):\n",
        "        for j in range(k):\n",
        "            configuracion = cambio_colores(configuracion, i, j, lista_colores_q)\n",
        "    # Verificar si la configuración generada es factible\n",
        "    while not configuracion_factible(configuracion):\n",
        "        configuracion = generador_configuracion_factible(k,q)     # Vuelve a llamar la función hasta que se tenga una configuración factible\n",
        "    return configuracion"
      ],
      "metadata": {
        "id": "DIPRP8yhIJWk"
      },
      "execution_count": 21,
      "outputs": []
    },
    {
      "cell_type": "markdown",
      "source": [
        "#### Generación de una configuración factible para $k=10$ y $q=4$ se genera un diagrama para observar mas facilmente que se cumplen las condiciones de una $q$-coloración"
      ],
      "metadata": {
        "id": "FT4Pl3C3AO-M"
      }
    },
    {
      "cell_type": "code",
      "source": [
        "configuracion_mapa = generador_configuracion_factible(k = 10, q = 4)\n",
        "\n",
        "plt.figure(figsize=(8, 6))\n",
        "sns.heatmap(configuracion_mapa\n",
        "           ,annot = True\n",
        "           ,fmt = \"d\"\n",
        "           ,cmap = \"YlGnBu\"\n",
        "           ,cbar=False)\n",
        "plt.title(\"Matriz aleatoria\")\n",
        "plt.xlabel(\"Columna\")\n",
        "plt.ylabel(\"Fila\")\n",
        "plt.show()"
      ],
      "metadata": {
        "colab": {
          "base_uri": "https://localhost:8080/",
          "height": 564
        },
        "id": "zF-yLSL7IMfj",
        "outputId": "39525ee3-a89b-41c3-8f58-bb37c2f8178b"
      },
      "execution_count": 22,
      "outputs": [
        {
          "output_type": "display_data",
          "data": {
            "text/plain": [
              "<Figure size 800x600 with 1 Axes>"
            ],
            "image/png": "[encoded data removed]"
          },
          "metadata": {}
        }
      ]
    },
    {
      "cell_type": "markdown",
      "source": [
        "#### Función que implementa del algoritmo **Gibbs Sampler** para generar muestras de una distribución"
      ],
      "metadata": {
        "id": "pKQyFfByAzri"
      }
    },
    {
      "cell_type": "code",
      "source": [
        "#Ingresa la cantidad de iteraciones n, una configuración inicial y q que es la\n",
        "#cantidad de colores\n",
        "\n",
        "def algoritmo_gibbs(n, configuracion, q):\n",
        "    # Lista de muestras de configuraciones factibles dentro del algoritmo gibbs\n",
        "    muestras = []\n",
        "    # Lista del número de partículas dentro de cada configuración factible\n",
        "    num_particulas = []\n",
        "    # Generar una configuración inicial aleatoria válida\n",
        "    configuracion_actual = configuracion\n",
        "\n",
        "    lista_colores_q = [a for a in range(q)]\n",
        "\n",
        "    k = len(configuracion)\n",
        "\n",
        "    for w in range(n):\n",
        "        configuracion_propuesta = configuracion_actual.copy()\n",
        "        i, j = random.randint(0, k-1), random.randint(0, k-1)               # Elegir una posición aleatoria en la configuración actual\n",
        "        color_q = configuracion_propuesta[i][j]\n",
        "        lista_sin_color_q = [x for x in lista_colores_q if x!= color_q]\n",
        "        nuevo_color_q = random.choice(lista_sin_color_q)\n",
        "        configuracion_propuesta[i][j] = nuevo_color_q\n",
        "\n",
        "        if configuracion_factible(configuracion_propuesta):\n",
        "            muestras.append(configuracion_propuesta)            # Agregar la configuración actual a las muestras\n",
        "            configuracion_actual = configuracion_propuesta.copy()\n",
        "        else:\n",
        "            muestras.append(configuracion_actual)\n",
        "            #num_particulas.append(particulas_conf_propuesta)\n",
        "\n",
        "    #sum_num_particulas = sum(num_particulas)\n",
        "    #len_num_particulas = len(num_particulas)\n",
        "    #total_avg = round(sum_num_particulas/len_num_particulas,2)\n",
        "    return muestras"
      ],
      "metadata": {
        "id": "wwq5x3pwIOcv"
      },
      "execution_count": 27,
      "outputs": []
    },
    {
      "cell_type": "markdown",
      "source": [
        "#### Muestras del algoritmo de Gibbs"
      ],
      "metadata": {
        "id": "II_CnGUCDEpf"
      }
    },
    {
      "cell_type": "code",
      "source": [
        "algoritmo_gibbs(10, configuracion_mapa, 4)[0]"
      ],
      "metadata": {
        "colab": {
          "base_uri": "https://localhost:8080/"
        },
        "id": "Hk6brNGtB7aO",
        "outputId": "011bc718-2b6b-4e98-c07c-fdd3e93ae4de"
      },
      "execution_count": 31,
      "outputs": [
        {
          "output_type": "execute_result",
          "data": {
            "text/plain": [
              "[array([[0, 1, 0, 1, 0, 1, 0, 3, 1, 2],\n",
              "        [3, 2, 1, 2, 1, 2, 3, 0, 3, 0],\n",
              "        [2, 3, 0, 1, 3, 0, 2, 1, 2, 1],\n",
              "        [3, 1, 3, 0, 1, 2, 1, 0, 3, 2],\n",
              "        [2, 0, 1, 2, 0, 3, 0, 2, 1, 0],\n",
              "        [1, 2, 3, 0, 3, 0, 2, 0, 3, 1],\n",
              "        [0, 3, 1, 2, 1, 2, 3, 2, 0, 2],\n",
              "        [2, 1, 0, 1, 2, 3, 0, 3, 2, 1],\n",
              "        [0, 3, 1, 0, 1, 2, 3, 2, 1, 0],\n",
              "        [2, 0, 2, 3, 2, 1, 2, 1, 2, 1]]),\n",
              " array([[0, 1, 0, 1, 0, 1, 0, 3, 1, 2],\n",
              "        [3, 2, 1, 2, 1, 2, 3, 0, 3, 0],\n",
              "        [2, 3, 0, 1, 3, 0, 2, 1, 2, 1],\n",
              "        [3, 1, 2, 0, 1, 2, 1, 0, 3, 2],\n",
              "        [2, 0, 1, 2, 0, 3, 0, 2, 1, 0],\n",
              "        [1, 2, 3, 0, 3, 0, 2, 0, 3, 1],\n",
              "        [0, 3, 1, 2, 1, 2, 3, 2, 0, 2],\n",
              "        [2, 1, 0, 1, 2, 3, 0, 3, 2, 1],\n",
              "        [0, 3, 1, 0, 1, 2, 3, 2, 1, 0],\n",
              "        [2, 0, 2, 3, 2, 1, 2, 1, 2, 1]]),\n",
              " array([[0, 1, 0, 1, 0, 1, 0, 3, 1, 2],\n",
              "        [3, 2, 1, 2, 1, 2, 3, 0, 3, 0],\n",
              "        [2, 3, 0, 1, 3, 0, 2, 1, 2, 1],\n",
              "        [3, 1, 2, 0, 1, 2, 1, 0, 3, 2],\n",
              "        [2, 0, 1, 2, 0, 3, 0, 2, 1, 0],\n",
              "        [1, 2, 3, 0, 3, 0, 2, 0, 3, 1],\n",
              "        [0, 3, 1, 2, 1, 2, 3, 2, 0, 2],\n",
              "        [2, 1, 0, 1, 2, 3, 0, 3, 2, 1],\n",
              "        [0, 3, 1, 0, 1, 2, 3, 2, 1, 0],\n",
              "        [2, 0, 2, 3, 2, 1, 2, 1, 2, 1]]),\n",
              " array([[0, 1, 0, 1, 0, 1, 0, 3, 1, 2],\n",
              "        [3, 2, 1, 2, 1, 2, 3, 0, 3, 0],\n",
              "        [2, 3, 0, 1, 3, 0, 2, 1, 2, 1],\n",
              "        [3, 1, 2, 0, 1, 2, 1, 0, 3, 2],\n",
              "        [2, 0, 1, 2, 0, 3, 0, 2, 1, 0],\n",
              "        [1, 2, 3, 0, 3, 0, 2, 0, 3, 1],\n",
              "        [0, 3, 1, 2, 1, 2, 3, 2, 0, 2],\n",
              "        [2, 1, 0, 1, 2, 3, 0, 3, 2, 1],\n",
              "        [0, 3, 1, 0, 1, 2, 3, 2, 1, 0],\n",
              "        [2, 0, 2, 3, 2, 1, 2, 1, 2, 1]]),\n",
              " array([[0, 1, 0, 1, 0, 1, 0, 3, 1, 2],\n",
              "        [3, 2, 1, 2, 1, 2, 3, 0, 3, 0],\n",
              "        [2, 3, 0, 1, 3, 0, 2, 1, 2, 1],\n",
              "        [3, 1, 2, 0, 1, 2, 1, 0, 3, 2],\n",
              "        [2, 0, 1, 2, 0, 3, 0, 2, 1, 0],\n",
              "        [1, 2, 3, 0, 3, 0, 2, 0, 3, 1],\n",
              "        [0, 3, 1, 2, 1, 2, 3, 2, 0, 2],\n",
              "        [2, 1, 0, 1, 2, 3, 0, 3, 2, 1],\n",
              "        [0, 3, 1, 0, 1, 2, 3, 2, 1, 0],\n",
              "        [2, 0, 2, 3, 2, 1, 2, 1, 2, 1]]),\n",
              " array([[0, 1, 0, 1, 0, 1, 0, 3, 1, 2],\n",
              "        [3, 2, 1, 2, 1, 2, 3, 0, 3, 0],\n",
              "        [2, 3, 0, 1, 3, 0, 2, 1, 2, 1],\n",
              "        [3, 1, 2, 0, 1, 2, 1, 0, 3, 2],\n",
              "        [2, 0, 1, 2, 0, 3, 0, 2, 1, 0],\n",
              "        [1, 2, 3, 0, 3, 0, 2, 0, 3, 1],\n",
              "        [0, 3, 1, 2, 1, 2, 3, 2, 0, 2],\n",
              "        [2, 1, 0, 1, 2, 3, 0, 3, 2, 1],\n",
              "        [0, 3, 1, 0, 1, 2, 3, 2, 1, 0],\n",
              "        [2, 0, 2, 3, 2, 1, 2, 1, 2, 1]]),\n",
              " array([[0, 1, 0, 1, 0, 1, 0, 3, 1, 2],\n",
              "        [3, 2, 1, 2, 1, 2, 3, 0, 3, 0],\n",
              "        [2, 3, 0, 1, 3, 0, 2, 1, 2, 1],\n",
              "        [3, 1, 2, 0, 1, 2, 1, 0, 3, 2],\n",
              "        [2, 0, 1, 2, 0, 3, 0, 2, 1, 0],\n",
              "        [1, 2, 3, 0, 3, 0, 2, 0, 3, 1],\n",
              "        [0, 3, 1, 2, 1, 2, 3, 2, 0, 2],\n",
              "        [2, 1, 0, 1, 2, 3, 0, 3, 2, 1],\n",
              "        [0, 3, 1, 0, 1, 2, 3, 2, 1, 0],\n",
              "        [2, 0, 2, 3, 2, 1, 2, 1, 2, 1]]),\n",
              " array([[0, 1, 0, 1, 0, 1, 0, 3, 1, 2],\n",
              "        [3, 2, 1, 2, 1, 2, 3, 0, 3, 0],\n",
              "        [2, 3, 0, 1, 3, 0, 2, 1, 2, 1],\n",
              "        [3, 1, 2, 0, 1, 2, 1, 0, 3, 2],\n",
              "        [2, 0, 1, 2, 0, 3, 0, 2, 1, 0],\n",
              "        [1, 2, 3, 0, 3, 0, 2, 0, 3, 1],\n",
              "        [0, 3, 1, 2, 1, 2, 3, 2, 0, 2],\n",
              "        [2, 1, 0, 1, 2, 3, 0, 3, 2, 1],\n",
              "        [0, 3, 1, 0, 1, 2, 3, 2, 1, 0],\n",
              "        [2, 0, 2, 3, 2, 1, 2, 1, 2, 1]]),\n",
              " array([[0, 1, 0, 1, 0, 1, 0, 3, 1, 2],\n",
              "        [3, 2, 1, 2, 1, 2, 3, 0, 3, 0],\n",
              "        [2, 3, 0, 1, 3, 0, 2, 1, 2, 1],\n",
              "        [3, 1, 2, 0, 1, 2, 1, 0, 3, 2],\n",
              "        [2, 0, 1, 2, 0, 3, 0, 2, 1, 0],\n",
              "        [1, 2, 3, 0, 3, 0, 2, 0, 3, 1],\n",
              "        [0, 3, 1, 2, 1, 2, 3, 2, 0, 2],\n",
              "        [2, 1, 0, 1, 2, 3, 0, 3, 2, 1],\n",
              "        [0, 3, 1, 0, 1, 2, 3, 2, 1, 0],\n",
              "        [2, 0, 2, 3, 2, 1, 2, 1, 2, 1]]),\n",
              " array([[0, 1, 0, 1, 0, 1, 0, 3, 1, 2],\n",
              "        [3, 2, 1, 2, 1, 2, 3, 0, 3, 0],\n",
              "        [2, 3, 0, 1, 3, 0, 2, 1, 2, 1],\n",
              "        [3, 1, 2, 0, 1, 2, 1, 0, 3, 2],\n",
              "        [2, 0, 1, 2, 0, 3, 0, 2, 1, 0],\n",
              "        [1, 2, 3, 0, 3, 0, 2, 0, 3, 1],\n",
              "        [0, 3, 1, 2, 1, 2, 3, 2, 0, 2],\n",
              "        [2, 1, 0, 1, 2, 3, 0, 3, 2, 1],\n",
              "        [0, 3, 1, 0, 1, 2, 3, 2, 1, 0],\n",
              "        [2, 0, 2, 3, 2, 1, 2, 1, 2, 1]])]"
            ]
          },
          "metadata": {},
          "execution_count": 31
        }
      ]
    },
    {
      "cell_type": "code",
      "source": [
        "# Calcular los promedios totales para diferentes valores de n\n",
        "n_values = list(range(10, 100000, 1000))\n",
        "total_avgs = []\n",
        "\n",
        "for x in n_values:\n",
        "  total_avg_insert = algoritmo_gibbs(n = x, k=4, q=3)[1]\n",
        "  total_avgs.append(total_avg_insert)\n",
        "\n",
        "# Graficar el mapa de frecuencias\n",
        "plt.plot(n_values, total_avgs)\n",
        "plt.xlabel('Valor de n')\n",
        "plt.ylabel('Media Total')\n",
        "plt.title('Mapa de Frecuencias: Media Total vs Valor de n')\n",
        "plt.grid(True)\n",
        "plt.show()"
      ],
      "metadata": {
        "id": "uU4MIdcOBPRp"
      },
      "execution_count": null,
      "outputs": []
    }
  ]
}