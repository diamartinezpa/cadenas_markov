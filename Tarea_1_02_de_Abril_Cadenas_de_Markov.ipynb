{
  "nbformat": 4,
  "nbformat_minor": 0,
  "metadata": {
    "colab": {
      "provenance": [],
      "include_colab_link": true
    },
    "kernelspec": {
      "name": "python3",
      "display_name": "Python 3"
    },
    "language_info": {
      "name": "python"
    }
  },
  "cells": [
    {
      "cell_type": "markdown",
      "metadata": {
        "id": "view-in-github",
        "colab_type": "text"
      },
      "source": [
        "<a href=\"https://colab.research.google.com/github/diamartinezpa/cadenas_markov/blob/main/Tarea_1_02_de_Abril_Cadenas_de_Markov.ipynb\" target=\"_parent\"><img src=\"https://colab.research.google.com/assets/colab-badge.svg\" alt=\"Open In Colab\"/></a>"
      ]
    },
    {
      "cell_type": "markdown",
      "source": [
        "# Entrega Trabajo 1 - Cadenas de Markov & Aplicaciones"
      ],
      "metadata": {
        "id": "zVjOqEYzj6Hz"
      }
    },
    {
      "cell_type": "markdown",
      "source": [
        "Grupo 8:\n",
        "- Diego Fernando Pinzón López - dfpinzonl@unal.edu.co\n",
        "- Diego Andrés Martínez Parada - diamartinezpa@unal.edu.co"
      ],
      "metadata": {
        "id": "ZrjTmbVYjtg2"
      }
    },
    {
      "cell_type": "markdown",
      "source": [
        "# Descripción Tarea 1"
      ],
      "metadata": {
        "id": "-0_KjdpYku3q"
      }
    },
    {
      "cell_type": "markdown",
      "source": [
        "Escriba un notebook realizando los siguientes experimentos:"
      ],
      "metadata": {
        "id": "PcQHTQ96k8LU"
      }
    },
    {
      "cell_type": "markdown",
      "source": [
        "## Primer Punto"
      ],
      "metadata": {
        "id": "NVVlLt3gjkjL"
      }
    },
    {
      "cell_type": "markdown",
      "source": [
        "Implementar el algoritmo (Gibbs Sampler) visto en clase para generar muestras de una distribución uniforme sobre las configuraciones factibles del modelo Hard-Core, en la rejilla cuadrada $k \\times k$, ($\\approx 3 \\leq k \\leq 20$).\n",
        "\n",
        "Lo ideal es que se puedan visualizar las muestras y algunos pasos de la trayectoria de la cadena de Markov que condujo a la muestra (Sugerencia: tome $X_{10.000}$ ó $X_{100.000}$ como tiempo final)."
      ],
      "metadata": {
        "id": "FCYvFX-ikdBu"
      }
    },
    {
      "cell_type": "code",
      "source": [
        "import pandas as pd\n",
        "import numpy as np\n",
        "import random\n",
        "import matplotlib.pyplot as plt\n",
        "import seaborn as sns"
      ],
      "metadata": {
        "id": "svrbJzOe8HiD"
      },
      "execution_count": null,
      "outputs": []
    },
    {
      "cell_type": "code",
      "source": [
        "# Función que permite ver si una configuración (array k x k de unos y ceros) es una configuración factible, si satisface las condiciones del modelo Hard-Core\n",
        "\n",
        "def configuracion_factible(configuracion):\n",
        "    for i in range(len(configuracion)):\n",
        "        for j in range(len(configuracion)):\n",
        "            # Verificar que no haya ningún color repetido adyacente en la celda donde sí hay un 1\n",
        "            if configuracion[i][j] == 1:\n",
        "              if (i > 0 and configuracion[i-1][j] == 1) or \\\n",
        "                 (i < len(configuracion)-1 and configuracion[i+1][j] == 1) or \\\n",
        "                 (j > 0 and configuracion[i][j-1] == 1) or \\\n",
        "                 (j < len(configuracion)-1 and configuracion[i][j+1] == 1):\n",
        "                 return False\n",
        "    return True"
      ],
      "metadata": {
        "id": "j3Btllb37EwL"
      },
      "execution_count": null,
      "outputs": []
    },
    {
      "cell_type": "code",
      "source": [
        "conf_ejemplo_1 = np.array([[1,0,0]\n",
        "                          ,[0,1,0]\n",
        "                          ,[0,0,1]])\n",
        "print(conf_ejemplo_1)\n",
        "configuracion_factible(conf_ejemplo_1)"
      ],
      "metadata": {
        "colab": {
          "base_uri": "https://localhost:8080/"
        },
        "id": "mRGF-fLc7yK7",
        "outputId": "748d01af-1e4d-4d68-ad56-14b50c6e3212"
      },
      "execution_count": null,
      "outputs": [
        {
          "output_type": "stream",
          "name": "stdout",
          "text": [
            "[[1 0 0]\n",
            " [0 1 0]\n",
            " [0 0 1]]\n"
          ]
        },
        {
          "output_type": "execute_result",
          "data": {
            "text/plain": [
              "True"
            ]
          },
          "metadata": {},
          "execution_count": 37
        }
      ]
    },
    {
      "cell_type": "code",
      "source": [
        "conf_ejemplo_2 = np.array([[1,0,0]\n",
        "                          ,[1,0,0]\n",
        "                          ,[0,0,0]])\n",
        "print(conf_ejemplo_2)\n",
        "configuracion_factible(conf_ejemplo_2)"
      ],
      "metadata": {
        "colab": {
          "base_uri": "https://localhost:8080/"
        },
        "id": "SVVjnlPU8c-c",
        "outputId": "e7436918-c29e-4d7c-a6cc-d351e82091ea"
      },
      "execution_count": null,
      "outputs": [
        {
          "output_type": "stream",
          "name": "stdout",
          "text": [
            "[[1 0 0]\n",
            " [0 0 0]\n",
            " [0 0 0]]\n"
          ]
        },
        {
          "output_type": "execute_result",
          "data": {
            "text/plain": [
              "True"
            ]
          },
          "metadata": {},
          "execution_count": 39
        }
      ]
    },
    {
      "cell_type": "code",
      "source": [
        "# Función que permite ver si una configuración (array k x k de unos y ceros) es una configuración factible, si satisface las condiciones del modelo Hard-Core\n",
        "def cambio_colores(configuracion,i,j):\n",
        "    # Verificar que no haya ningún 1 adyacente en la celda donde sí hay un 1\n",
        "    if (i > 0 and configuracion[i-1][j] == 1) or\\\n",
        "       (i < len(configuracion)-1 and configuracion[i+1][j] == 1) or\\\n",
        "       (j > 0 and configuracion[i][j-1] == 1) or\\\n",
        "       (j < len(configuracion)-1 and configuracion[i][j+1] == 1):\n",
        "         configuracion[i][j] = 0\n",
        "\n",
        "    else:\n",
        "      a = random.choice([0, 1])\n",
        "      configuracion[i][j] = a\n",
        "\n",
        "    return configuracion"
      ],
      "metadata": {
        "id": "dhPxiBgGCzEu"
      },
      "execution_count": null,
      "outputs": []
    },
    {
      "cell_type": "code",
      "source": [
        "def generador_configuracion_factible(k):\n",
        "    configuracion = np.full((k, k), 0, dtype=int)\n",
        "\n",
        "    for i in range(k):\n",
        "        for j in range(k):\n",
        "            configuracion = cambio_colores(configuracion, i, j)\n",
        "    # Verificar si la configuración generada es factible\n",
        "    while not configuracion_factible(configuracion):\n",
        "        configuracion = generador_configuracion_factible(k)     # Vuelve a llamar la función hasta que se tenga una configuración factible\n",
        "    return configuracion"
      ],
      "metadata": {
        "id": "72toFNf_FCsv"
      },
      "execution_count": null,
      "outputs": []
    },
    {
      "cell_type": "code",
      "source": [
        "generador_configuracion_factible(30)"
      ],
      "metadata": {
        "colab": {
          "base_uri": "https://localhost:8080/"
        },
        "id": "hM3RsSsmFs7d",
        "outputId": "e1877faa-4893-40c9-e204-da144ab71cb0"
      },
      "execution_count": null,
      "outputs": [
        {
          "output_type": "execute_result",
          "data": {
            "text/plain": [
              "array([[1, 0, 1, 0, 0, 0, 0, 1, 0, 1, 0, 0, 1, 0, 0, 1, 0, 1, 0, 1, 0, 0,\n",
              "        1, 0, 0, 0, 1, 0, 1, 0],\n",
              "       [0, 1, 0, 0, 1, 0, 1, 0, 0, 0, 0, 0, 0, 0, 0, 0, 1, 0, 1, 0, 1, 0,\n",
              "        0, 1, 0, 1, 0, 1, 0, 0],\n",
              "       [0, 0, 0, 0, 0, 0, 0, 0, 0, 1, 0, 1, 0, 0, 0, 0, 0, 1, 0, 1, 0, 0,\n",
              "        0, 0, 1, 0, 1, 0, 0, 0],\n",
              "       [0, 1, 0, 0, 1, 0, 0, 1, 0, 0, 0, 0, 0, 0, 0, 1, 0, 0, 0, 0, 1, 0,\n",
              "        0, 0, 0, 1, 0, 1, 0, 1],\n",
              "       [1, 0, 0, 1, 0, 1, 0, 0, 1, 0, 1, 0, 1, 0, 0, 0, 0, 0, 1, 0, 0, 1,\n",
              "        0, 0, 0, 0, 0, 0, 0, 0],\n",
              "       [0, 0, 1, 0, 1, 0, 1, 0, 0, 1, 0, 0, 0, 1, 0, 1, 0, 1, 0, 0, 0, 0,\n",
              "        0, 1, 0, 1, 0, 1, 0, 1],\n",
              "       [1, 0, 0, 0, 0, 0, 0, 1, 0, 0, 1, 0, 0, 0, 1, 0, 0, 0, 0, 0, 0, 0,\n",
              "        0, 0, 1, 0, 1, 0, 0, 0],\n",
              "       [0, 0, 1, 0, 1, 0, 1, 0, 1, 0, 0, 0, 0, 0, 0, 0, 1, 0, 0, 0, 1, 0,\n",
              "        0, 1, 0, 1, 0, 0, 1, 0],\n",
              "       [0, 1, 0, 0, 0, 1, 0, 1, 0, 0, 0, 0, 1, 0, 0, 1, 0, 0, 0, 1, 0, 1,\n",
              "        0, 0, 0, 0, 0, 0, 0, 0],\n",
              "       [1, 0, 0, 0, 1, 0, 1, 0, 0, 0, 1, 0, 0, 1, 0, 0, 0, 0, 1, 0, 0, 0,\n",
              "        0, 1, 0, 0, 1, 0, 1, 0],\n",
              "       [0, 0, 1, 0, 0, 1, 0, 0, 0, 0, 0, 1, 0, 0, 0, 0, 0, 0, 0, 0, 1, 0,\n",
              "        0, 0, 0, 1, 0, 1, 0, 0],\n",
              "       [1, 0, 0, 1, 0, 0, 1, 0, 1, 0, 1, 0, 1, 0, 1, 0, 1, 0, 1, 0, 0, 0,\n",
              "        1, 0, 1, 0, 1, 0, 1, 0],\n",
              "       [0, 1, 0, 0, 1, 0, 0, 0, 0, 1, 0, 1, 0, 0, 0, 0, 0, 1, 0, 0, 0, 0,\n",
              "        0, 1, 0, 0, 0, 1, 0, 1],\n",
              "       [0, 0, 1, 0, 0, 1, 0, 1, 0, 0, 0, 0, 1, 0, 0, 1, 0, 0, 0, 0, 0, 1,\n",
              "        0, 0, 0, 0, 0, 0, 1, 0],\n",
              "       [0, 0, 0, 1, 0, 0, 0, 0, 1, 0, 0, 0, 0, 1, 0, 0, 1, 0, 0, 0, 1, 0,\n",
              "        1, 0, 1, 0, 1, 0, 0, 0],\n",
              "       [1, 0, 0, 0, 0, 0, 0, 0, 0, 1, 0, 1, 0, 0, 1, 0, 0, 0, 0, 0, 0, 1,\n",
              "        0, 1, 0, 1, 0, 0, 1, 0],\n",
              "       [0, 1, 0, 1, 0, 1, 0, 0, 1, 0, 1, 0, 0, 0, 0, 1, 0, 0, 0, 0, 1, 0,\n",
              "        0, 0, 1, 0, 0, 0, 0, 0],\n",
              "       [1, 0, 0, 0, 1, 0, 1, 0, 0, 1, 0, 0, 0, 0, 0, 0, 0, 0, 0, 0, 0, 0,\n",
              "        1, 0, 0, 1, 0, 1, 0, 0],\n",
              "       [0, 1, 0, 1, 0, 1, 0, 1, 0, 0, 0, 1, 0, 0, 1, 0, 0, 1, 0, 0, 0, 0,\n",
              "        0, 1, 0, 0, 0, 0, 1, 0],\n",
              "       [0, 0, 0, 0, 1, 0, 1, 0, 1, 0, 0, 0, 0, 1, 0, 1, 0, 0, 1, 0, 1, 0,\n",
              "        1, 0, 0, 0, 1, 0, 0, 1],\n",
              "       [0, 1, 0, 0, 0, 0, 0, 0, 0, 0, 1, 0, 1, 0, 0, 0, 0, 0, 0, 1, 0, 0,\n",
              "        0, 0, 1, 0, 0, 0, 0, 0],\n",
              "       [1, 0, 1, 0, 1, 0, 0, 1, 0, 1, 0, 1, 0, 0, 0, 0, 1, 0, 1, 0, 0, 1,\n",
              "        0, 1, 0, 1, 0, 0, 1, 0],\n",
              "       [0, 0, 0, 0, 0, 0, 1, 0, 1, 0, 1, 0, 1, 0, 0, 1, 0, 1, 0, 0, 1, 0,\n",
              "        1, 0, 0, 0, 1, 0, 0, 1],\n",
              "       [0, 0, 0, 0, 0, 1, 0, 0, 0, 0, 0, 0, 0, 0, 1, 0, 1, 0, 0, 0, 0, 1,\n",
              "        0, 1, 0, 1, 0, 1, 0, 0],\n",
              "       [0, 0, 1, 0, 0, 0, 0, 1, 0, 1, 0, 0, 0, 1, 0, 1, 0, 0, 0, 1, 0, 0,\n",
              "        0, 0, 1, 0, 1, 0, 1, 0],\n",
              "       [0, 1, 0, 0, 1, 0, 0, 0, 0, 0, 1, 0, 0, 0, 0, 0, 0, 1, 0, 0, 1, 0,\n",
              "        0, 0, 0, 0, 0, 0, 0, 0],\n",
              "       [1, 0, 1, 0, 0, 1, 0, 1, 0, 0, 0, 0, 1, 0, 1, 0, 0, 0, 0, 0, 0, 0,\n",
              "        1, 0, 0, 1, 0, 0, 1, 0],\n",
              "       [0, 1, 0, 0, 0, 0, 0, 0, 0, 0, 0, 1, 0, 1, 0, 0, 0, 1, 0, 1, 0, 1,\n",
              "        0, 0, 1, 0, 1, 0, 0, 0],\n",
              "       [0, 0, 0, 0, 1, 0, 0, 1, 0, 1, 0, 0, 1, 0, 0, 0, 1, 0, 0, 0, 1, 0,\n",
              "        1, 0, 0, 0, 0, 1, 0, 0],\n",
              "       [0, 0, 1, 0, 0, 0, 0, 0, 0, 0, 0, 1, 0, 1, 0, 1, 0, 1, 0, 1, 0, 0,\n",
              "        0, 0, 1, 0, 0, 0, 0, 1]])"
            ]
          },
          "metadata": {},
          "execution_count": 79
        }
      ]
    },
    {
      "cell_type": "code",
      "source": [
        "configuracion_mapa = generador_configuracion_factible(k = 30)\n",
        "\n",
        "plt.figure(figsize=(8, 6))\n",
        "sns.heatmap(configuracion_mapa\n",
        "           ,annot = True\n",
        "           ,fmt = \"d\"\n",
        "           ,cmap = \"YlGnBu\"\n",
        "           ,cbar=False)\n",
        "plt.title(\"Matriz aleatoria\")\n",
        "plt.xlabel(\"Columna\")\n",
        "plt.ylabel(\"Fila\")\n",
        "plt.show()"
      ],
      "metadata": {
        "colab": {
          "base_uri": "https://localhost:8080/",
          "height": 564
        },
        "id": "v3VANnVsGFJb",
        "outputId": "0507c3a5-ff0f-49f7-a886-fb15f9cea6be"
      },
      "execution_count": null,
      "outputs": [
        {
          "output_type": "display_data",
          "data": {
            "text/plain": [
              "<Figure size 800x600 with 1 Axes>"
            ],
            "image/png": "[encoded data removed]"
          },
          "metadata": {}
        }
      ]
    },
    {
      "cell_type": "code",
      "source": [
        "# Función que implementa del algoritmo Gibbs Sampler para generar muestras de una distribución uniforme\n",
        "\n",
        "def algoritmo_gibbs(n,k):\n",
        "    # Lista de muestras de configuraciones factibles dentro del algoritmo gibbs\n",
        "    muestras = []\n",
        "    # Lista del número de partículas dentro de cada configuración factible\n",
        "    num_particulas = []\n",
        "    # Generar una configuración inicial aleatoria válida\n",
        "    configuracion_actual = generador_configuracion_factible(k)\n",
        "\n",
        "    for w in range(n):\n",
        "        configuracion_propuesta = configuracion_actual.copy()\n",
        "        i, j = random.randint(0, k-1), random.randint(0, k-1)               # Elegir una posición aleatoria en la configuración actual\n",
        "        configuracion_propuesta[i][j] = 1 - configuracion_propuesta[i][j]\n",
        "\n",
        "        particulas_conf_actual = np.count_nonzero(configuracion_actual == 1)\n",
        "        particulas_conf_propuesta = np.count_nonzero(configuracion_propuesta == 1)\n",
        "\n",
        "        if configuracion_factible(configuracion_propuesta):\n",
        "          muestras.append(configuracion_propuesta)            # Agregar la configuración actual a las muestras\n",
        "          num_particulas.append(particulas_conf_propuesta)\n",
        "          configuracion_actual = configuracion_propuesta.copy()\n",
        "        else:\n",
        "          muestras.append(configuracion_actual)\n",
        "          num_particulas.append(particulas_conf_propuesta)\n",
        "\n",
        "    sum_num_particulas = sum(num_particulas)\n",
        "    len_num_particulas = len(num_particulas)\n",
        "    total_avg = round(sum_num_particulas/len_num_particulas,2)\n",
        "    return muestras, total_avg"
      ],
      "metadata": {
        "id": "eNfQrLAB_Bsd"
      },
      "execution_count": null,
      "outputs": []
    },
    {
      "cell_type": "code",
      "source": [
        "algoritmo_gibbs(n = 10, k = 3)"
      ],
      "metadata": {
        "colab": {
          "base_uri": "https://localhost:8080/"
        },
        "id": "Pm_bZB8KM0au",
        "outputId": "3201ab31-0be8-468b-d0af-70c9a4fe1fdc"
      },
      "execution_count": null,
      "outputs": [
        {
          "output_type": "execute_result",
          "data": {
            "text/plain": [
              "([array([[0, 0, 1],\n",
              "         [1, 0, 0],\n",
              "         [0, 0, 1]]),\n",
              "  array([[0, 0, 1],\n",
              "         [0, 0, 0],\n",
              "         [0, 0, 1]]),\n",
              "  array([[0, 0, 1],\n",
              "         [0, 0, 0],\n",
              "         [0, 0, 1]]),\n",
              "  array([[0, 0, 1],\n",
              "         [0, 0, 0],\n",
              "         [0, 0, 1]]),\n",
              "  array([[0, 0, 1],\n",
              "         [0, 0, 0],\n",
              "         [1, 0, 1]]),\n",
              "  array([[0, 0, 1],\n",
              "         [0, 1, 0],\n",
              "         [1, 0, 1]]),\n",
              "  array([[0, 0, 1],\n",
              "         [0, 1, 0],\n",
              "         [1, 0, 1]]),\n",
              "  array([[0, 0, 1],\n",
              "         [0, 1, 0],\n",
              "         [1, 0, 1]]),\n",
              "  array([[0, 0, 1],\n",
              "         [0, 0, 0],\n",
              "         [1, 0, 1]]),\n",
              "  array([[0, 0, 1],\n",
              "         [0, 0, 0],\n",
              "         [1, 0, 1]])],\n",
              " 3.6)"
            ]
          },
          "metadata": {},
          "execution_count": 58
        }
      ]
    },
    {
      "cell_type": "markdown",
      "source": [
        "## Segundo Punto"
      ],
      "metadata": {
        "id": "RgKC5SpSjmjw"
      }
    },
    {
      "cell_type": "markdown",
      "source": [
        "Usar muestras generadas con lo hecho en el ejercicio anterior para estimar el número de partículas \"típico\" que tienen una configuración factible en la rejilla $k \\times k$.\n",
        "\n",
        "Veriticar como cambia el histograma si en el paso 1) se toman en vez de $X_{10.000}$ ó $X_{100.000}$, otros tiempos de la cadena ${X_A}$"
      ],
      "metadata": {
        "id": "beweeyb4lkUZ"
      }
    },
    {
      "cell_type": "code",
      "source": [
        "# Calcular los promedios totales para diferentes valores de n\n",
        "n_values = list(range(10000, 100000, 100))\n",
        "total_avgs = []\n",
        "\n",
        "for x in n_values:\n",
        "  total_avg_insert = algoritmo_gibbs(n = x, k=3)[1]\n",
        "  total_avgs.append(total_avg_insert)\n",
        "\n",
        "# Graficar el mapa de frecuencias\n",
        "plt.plot(n_values, total_avgs)\n",
        "plt.xlabel('Valor de n')\n",
        "plt.ylabel('Media Total')\n",
        "plt.title('Mapa de Frecuencias: Media Total vs Valor de n')\n",
        "plt.grid(True)\n",
        "plt.show()"
      ],
      "metadata": {
        "id": "79X-NR17LtU_"
      },
      "execution_count": null,
      "outputs": []
    },
    {
      "cell_type": "markdown",
      "source": [
        "## Tercer Punto"
      ],
      "metadata": {
        "id": "2PDwm8hSjoOE"
      }
    },
    {
      "cell_type": "markdown",
      "source": [
        "Replicar lo hecho en 1) para q coloraciones ($ \\approx 2 \\leq q \\leq 10$, $3 \\leq k \\leq 20$)."
      ],
      "metadata": {
        "id": "29tUX_DYl8xU"
      }
    },
    {
      "cell_type": "code",
      "source": [
        "# Función que permite ver si una configuración (array k x k de unos y ceros) es una configuración factible, si satisface las condiciones del modelo Hard-Core\n",
        "def cambio_colores(configuracion,i,j,lista_colores_q):\n",
        "    #Me trae el color de la casilla i,j\n",
        "    color_q = configuracion[i][j]\n",
        "    lista_colores_excluir = []\n",
        "    # Verificar que no haya ningún 1 adyacente en la celda donde sí hay un 1\n",
        "    if (i > 0 and configuracion[i-1][j] == color_q) or\\\n",
        "       (i < len(configuracion)-1 and configuracion[i+1][j] == color_q) or\\\n",
        "       (j > 0 and configuracion[i][j-1] == color_q) or\\\n",
        "       (j < len(configuracion)-1 and configuracion[i][j+1] == color_q):\n",
        "         if i > 0:\n",
        "                color_q1 = configuracion[i-1][j]\n",
        "                lista_colores_excluir.append(color_q1)\n",
        "\n",
        "         if i < len(configuracion)-1:\n",
        "                color_q2 = configuracion[i+1][j]\n",
        "                lista_colores_excluir.append(color_q2)\n",
        "\n",
        "         if j > 0:\n",
        "            color_q3 = configuracion[i][j-1]\n",
        "            lista_colores_excluir.append(color_q3)\n",
        "\n",
        "         if j < len(configuracion)-1:\n",
        "                color_q4 = configuracion[i][j+1]\n",
        "                lista_colores_excluir.append(color_q4)\n",
        "\n",
        "         lista_sin_color_q = [x for x in lista_colores_q if x not in lista_colores_excluir]\n",
        "         color_q_nuevo = random.choice(lista_sin_color_q)\n",
        "         configuracion[i][j] = color_q_nuevo\n",
        "\n",
        "    if i == len(configuracion)-1 and j == len(configuracion)-1:\n",
        "        lista_colores_excluir = [configuracion[i][j-1], configuracion[i-1][j]]\n",
        "        lista_sin_color_q = [x for x in lista_colores_q if x not in lista_colores_excluir]\n",
        "        color_q_nuevo = random.choice(lista_sin_color_q)\n",
        "        configuracion[i][j] = color_q_nuevo\n",
        "\n",
        "    return configuracion"
      ],
      "metadata": {
        "id": "JRBIAZSsHqFy"
      },
      "execution_count": null,
      "outputs": []
    },
    {
      "cell_type": "code",
      "source": [
        "# Función que permite ver si una configuración (array k x k de unos y ceros) es una configuración factible, si satisface las condiciones del modelo Hard-Core\n",
        "def configuracion_factible(configuracion):\n",
        "    for i in range(len(configuracion)):\n",
        "        for j in range(len(configuracion)):\n",
        "            l = configuracion[i][j]\n",
        "            # Verificar que no haya ningún color repetido adyacente en la celda donde sí hay un 1\n",
        "            if (i > 0 and configuracion[i-1][j] == l) or \\\n",
        "               (i < len(configuracion)-1 and configuracion[i+1][j] == l) or \\\n",
        "               (j > 0 and configuracion[i][j-1] == l) or \\\n",
        "               (j < len(configuracion)-1 and configuracion[i][j+1] == l):\n",
        "                return False\n",
        "    return True"
      ],
      "metadata": {
        "id": "BLq5S5rGIG1O"
      },
      "execution_count": null,
      "outputs": []
    },
    {
      "cell_type": "code",
      "source": [
        "def generador_configuracion_factible(k,q):\n",
        "    lista_colores_q = [a for a in range(q)]\n",
        "    configuracion = np.full((k, k), -1, dtype=int)\n",
        "\n",
        "    for i in range(k):\n",
        "        for j in range(k):\n",
        "            configuracion = cambio_colores(configuracion, i, j, lista_colores_q)\n",
        "    # Verificar si la configuración generada es factible\n",
        "    while not configuracion_factible(configuracion):\n",
        "        configuracion = generador_configuracion_factible(k,q)     # Vuelve a llamar la función hasta que se tenga una configuración factible\n",
        "    return configuracion"
      ],
      "metadata": {
        "id": "DIPRP8yhIJWk"
      },
      "execution_count": null,
      "outputs": []
    },
    {
      "cell_type": "code",
      "source": [
        "configuracion_mapa = generador_configuracion_factible(k = 10, q = 4)\n",
        "\n",
        "plt.figure(figsize=(8, 6))\n",
        "sns.heatmap(configuracion_mapa\n",
        "           ,annot = True\n",
        "           ,fmt = \"d\"\n",
        "           ,cmap = \"YlGnBu\"\n",
        "           ,cbar=False)\n",
        "plt.title(\"Matriz aleatoria\")\n",
        "plt.xlabel(\"Columna\")\n",
        "plt.ylabel(\"Fila\")\n",
        "plt.show()"
      ],
      "metadata": {
        "colab": {
          "base_uri": "https://localhost:8080/",
          "height": 564
        },
        "id": "zF-yLSL7IMfj",
        "outputId": "6ff37dfc-d039-4114-bb3b-9d33df07362c"
      },
      "execution_count": null,
      "outputs": [
        {
          "output_type": "display_data",
          "data": {
            "text/plain": [
              "<Figure size 800x600 with 1 Axes>"
            ],
            "image/png": "[encoded data removed]"
          },
          "metadata": {}
        }
      ]
    },
    {
      "cell_type": "code",
      "source": [
        "# Función que implementa del algoritmo Gibbs Sampler para generar muestras de una distribución uniforme\n",
        "\n",
        "def algoritmo_gibbs(n, configuracion, q):\n",
        "    # Lista de muestras de configuraciones factibles dentro del algoritmo gibbs\n",
        "    muestras = []\n",
        "    # Lista del número de partículas dentro de cada configuración factible\n",
        "    num_particulas = []\n",
        "    # Generar una configuración inicial aleatoria válida\n",
        "    configuracion_actual = configuracion\n",
        "\n",
        "    lista_colores_q = [a for a in range(q)]\n",
        "\n",
        "    k = len(configuracion)\n",
        "\n",
        "    for w in range(n):\n",
        "        configuracion_propuesta = configuracion_actual.copy()\n",
        "        i, j = random.randint(0, k-1), random.randint(0, k-1)               # Elegir una posición aleatoria en la configuración actual\n",
        "        color_q = configuracion_propuesta[i][j]\n",
        "        lista_sin_color_q = [x for x in lista_colores_q if x!= color_q]\n",
        "        nuevo_color_q = random.choice(lista_sin_color_q)\n",
        "        configuracion_propuesta[i][j] = nuevo_color_q\n",
        "\n",
        "        if configuracion_factible(configuracion_propuesta):\n",
        "            muestras.append(configuracion_propuesta)            # Agregar la configuración actual a las muestras\n",
        "            configuracion_actual = configuracion_propuesta.copy()\n",
        "        else:\n",
        "            muestras.append(configuracion_actual)\n",
        "            #num_particulas.append(particulas_conf_propuesta)\n",
        "\n",
        "    #sum_num_particulas = sum(num_particulas)\n",
        "    #len_num_particulas = len(num_particulas)\n",
        "    #total_avg = round(sum_num_particulas/len_num_particulas,2)\n",
        "    return muestras"
      ],
      "metadata": {
        "id": "wwq5x3pwIOcv"
      },
      "execution_count": null,
      "outputs": []
    }
  ]
}